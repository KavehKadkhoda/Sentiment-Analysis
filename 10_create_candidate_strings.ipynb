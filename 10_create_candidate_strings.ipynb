{
  "nbformat": 4,
  "nbformat_minor": 0,
  "metadata": {
    "colab": {
      "name": "10_create_candidate_strings.ipynb",
      "provenance": [],
      "authorship_tag": "ABX9TyOBXuUN9QKqpsVAgsLuBO9N",
      "include_colab_link": true
    },
    "kernelspec": {
      "name": "python3",
      "display_name": "Python 3"
    },
    "language_info": {
      "name": "python"
    }
  },
  "cells": [
    {
      "cell_type": "markdown",
      "metadata": {
        "id": "view-in-github",
        "colab_type": "text"
      },
      "source": [
        "<a href=\"https://colab.research.google.com/github/KavehKadkhoda/Sentiment-Analysis/blob/main/10_create_candidate_strings.ipynb\" target=\"_parent\"><img src=\"https://colab.research.google.com/assets/colab-badge.svg\" alt=\"Open In Colab\"/></a>"
      ]
    },
    {
      "cell_type": "markdown",
      "source": [
        "# NLP Course 2 Week 1 Lesson : Building The Model - Lecture Exercise 02\n",
        "Estimated Time: 20 minutes\n",
        "<br>\n",
        "# Candidates from String Edits\n",
        "Create a list of candidate strings by applying an edit operation\n",
        "<br>\n",
        "### Imports and Data"
      ],
      "metadata": {
        "id": "aMM5R_PeufaQ"
      }
    },
    {
      "cell_type": "code",
      "source": [
        "# data\n",
        "word = 'dearz' # 🦌"
      ],
      "metadata": {
        "id": "qOe465NgufzR"
      },
      "execution_count": 1,
      "outputs": []
    },
    {
      "cell_type": "markdown",
      "source": [
        "### Splits\n",
        "Find all the ways you can split a word into 2 parts !"
      ],
      "metadata": {
        "id": "tWEm_PP0uwo7"
      }
    },
    {
      "cell_type": "code",
      "source": [
        "# splits with a loop\n",
        "splits_a = []\n",
        "for i in range(len(word)+1):\n",
        "    splits_a.append([word[:i],word[i:]])\n",
        "\n",
        "for i in splits_a:\n",
        "    print(i)"
      ],
      "metadata": {
        "colab": {
          "base_uri": "https://localhost:8080/"
        },
        "id": "9qBpO3juuw50",
        "outputId": "642ebd47-e155-4bec-8a57-b7f10022f7b3"
      },
      "execution_count": 2,
      "outputs": [
        {
          "output_type": "stream",
          "name": "stdout",
          "text": [
            "['', 'dearz']\n",
            "['d', 'earz']\n",
            "['de', 'arz']\n",
            "['dea', 'rz']\n",
            "['dear', 'z']\n",
            "['dearz', '']\n"
          ]
        }
      ]
    },
    {
      "cell_type": "code",
      "source": [
        "# same splits, done using a list comprehension\n",
        "splits_b = [(word[:i], word[i:]) for i in range(len(word) + 1)]\n",
        "\n",
        "for i in splits_b:\n",
        "    print(i)"
      ],
      "metadata": {
        "colab": {
          "base_uri": "https://localhost:8080/"
        },
        "id": "OSx9AuK3u5ML",
        "outputId": "d543b87d-91c6-430d-de93-206666cbdba9"
      },
      "execution_count": 3,
      "outputs": [
        {
          "output_type": "stream",
          "name": "stdout",
          "text": [
            "('', 'dearz')\n",
            "('d', 'earz')\n",
            "('de', 'arz')\n",
            "('dea', 'rz')\n",
            "('dear', 'z')\n",
            "('dearz', '')\n"
          ]
        }
      ]
    },
    {
      "cell_type": "markdown",
      "source": [
        "### Delete Edit\n",
        "Delete a letter from each string in the `splits` list.\n",
        "<br>\n",
        "What this does is effectively delete each possible letter from the original word being edited. "
      ],
      "metadata": {
        "id": "zhcS6qYsu9nF"
      }
    },
    {
      "cell_type": "code",
      "source": [
        "# deletes with a loop\n",
        "splits = splits_a\n",
        "deletes = []\n",
        "\n",
        "print('word : ', word)\n",
        "for L,R in splits:\n",
        "    if R:\n",
        "        print(L + R[1:], ' <-- delete ', R[0])"
      ],
      "metadata": {
        "colab": {
          "base_uri": "https://localhost:8080/"
        },
        "id": "Oo7GOp33u94O",
        "outputId": "d82a4907-a0a5-465a-dadd-64072524f16b"
      },
      "execution_count": 4,
      "outputs": [
        {
          "output_type": "stream",
          "name": "stdout",
          "text": [
            "word :  dearz\n",
            "earz  <-- delete  d\n",
            "darz  <-- delete  e\n",
            "derz  <-- delete  a\n",
            "deaz  <-- delete  r\n",
            "dear  <-- delete  z\n"
          ]
        }
      ]
    },
    {
      "cell_type": "markdown",
      "source": [
        "It's worth taking a closer look at how this is excecuting a 'delete'.\n",
        "<br>\n",
        "Taking the first item from the `splits` list :"
      ],
      "metadata": {
        "id": "HyAwPG5AvpRy"
      }
    },
    {
      "cell_type": "code",
      "source": [
        "# breaking it down\n",
        "print('word : ', word)\n",
        "one_split = splits[0]\n",
        "print('first item from the splits list : ', one_split)\n",
        "L = one_split[0]\n",
        "R = one_split[1]\n",
        "print('L : ', L)\n",
        "print('R : ', R)\n",
        "print('*** now implicit delete by excluding the leading letter ***')\n",
        "print('L + R[1:] : ',L + R[1:], ' <-- delete ', R[0])"
      ],
      "metadata": {
        "colab": {
          "base_uri": "https://localhost:8080/"
        },
        "id": "Y0B0TJZkva10",
        "outputId": "7f85775e-ece8-44a0-95b3-eeade742255b"
      },
      "execution_count": 6,
      "outputs": [
        {
          "output_type": "stream",
          "name": "stdout",
          "text": [
            "word :  dearz\n",
            "first item from the splits list :  ['', 'dearz']\n",
            "L :  \n",
            "R :  dearz\n",
            "*** now implicit delete by excluding the leading letter ***\n",
            "L + R[1:] :  earz  <-- delete  d\n"
          ]
        }
      ]
    },
    {
      "cell_type": "markdown",
      "source": [
        "So the end result transforms 'dearz' to 'earz' by deleting the first character.\n",
        "And you use a loop (code block above) or a list comprehension (code block below) to do\n",
        "this for the entire splits list."
      ],
      "metadata": {
        "id": "0KA6X57mv-ly"
      }
    },
    {
      "cell_type": "code",
      "source": [
        "# deletes with a list comprehension\n",
        "splits = splits_a\n",
        "deletes = [L + R[1:] for L, R in splits if R]\n",
        "\n",
        "print(deletes)\n",
        "print('*** which is the same as ***')\n",
        "for i in deletes:\n",
        "    print(i)"
      ],
      "metadata": {
        "colab": {
          "base_uri": "https://localhost:8080/"
        },
        "id": "otmm-D-Wv-3h",
        "outputId": "7f520c22-f625-4137-d9eb-aa2143a06b8e"
      },
      "execution_count": 7,
      "outputs": [
        {
          "output_type": "stream",
          "name": "stdout",
          "text": [
            "['earz', 'darz', 'derz', 'deaz', 'dear']\n",
            "*** which is the same as ***\n",
            "earz\n",
            "darz\n",
            "derz\n",
            "deaz\n",
            "dear\n"
          ]
        }
      ]
    },
    {
      "cell_type": "markdown",
      "source": [
        "## Ungraded Exercise\n",
        "You now have a list of ***candidate strings*** created after performing a **delete** edit.\n",
        "<br>\n",
        "Next step will be to filter this list for ***candidate words*** found in a vocabulary.\n",
        "<br>\n",
        "Given the example vocab below, can you think of a way to create a list of candidate words ? \n",
        "<br>\n",
        "Remember, you already have a list of candidate strings, some of which are certainly not actual words you might find in your vocabulary !\n",
        "<br>\n",
        "<br>\n",
        "So from the above list **earz, darz, derz, deaz, dear**. \n",
        "<br>\n",
        "You're really only interested in **dear**."
      ],
      "metadata": {
        "id": "JCYXC7pVwI1C"
      }
    },
    {
      "cell_type": "code",
      "source": [
        "vocab = ['dean','deer','dear','fries','and','coke']\n",
        "edits = list(deletes)\n",
        "\n",
        "print('vocab : ', vocab)\n",
        "print('edits : ', edits)\n",
        "\n",
        "candidates=[]\n",
        "\n",
        "### START CODE HERE ###\n",
        "#candidates = ??  # hint: 'set.intersection'\n",
        "candidates = set(vocab).intersection(edits)\n",
        "### END CODE HERE ###\n",
        "\n",
        "print('candidate words : ', candidates)"
      ],
      "metadata": {
        "colab": {
          "base_uri": "https://localhost:8080/"
        },
        "id": "QfFaFgeOwJKF",
        "outputId": "1302b991-b34b-46c1-d4ac-5cdf1514f9b2"
      },
      "execution_count": 8,
      "outputs": [
        {
          "output_type": "stream",
          "name": "stdout",
          "text": [
            "vocab :  ['dean', 'deer', 'dear', 'fries', 'and', 'coke']\n",
            "edits :  ['earz', 'darz', 'derz', 'deaz', 'dear']\n",
            "candidate words :  {'dear'}\n"
          ]
        }
      ]
    },
    {
      "cell_type": "markdown",
      "source": [
        "## Summary\n",
        "You've unpacked an integral part of the assignment by breaking down **splits** and **edits**, specifically looking at **deletes** here.\n",
        "<br>\n",
        "Implementation of the other edit types (insert, replace, switch) follows a similar methodology and should now feel somewhat familiar when you see them.\n",
        "<br>\n",
        "This bit of the code isn't as intuitive as other sections, so well done!\n",
        "<br>\n",
        "You should now feel confident facing some of the more technical parts of the assignment at the end of the week."
      ],
      "metadata": {
        "id": "AAq42lWkw7Wc"
      }
    }
  ]
}