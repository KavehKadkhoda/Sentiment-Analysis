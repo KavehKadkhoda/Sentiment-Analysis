{
  "nbformat": 4,
  "nbformat_minor": 0,
  "metadata": {
    "colab": {
      "name": "13_tags_and_Numpy.ipynb",
      "provenance": [],
      "collapsed_sections": [],
      "authorship_tag": "ABX9TyNq+zM1CNmFLAvXUUBBL7xR",
      "include_colab_link": true
    },
    "kernelspec": {
      "name": "python3",
      "display_name": "Python 3"
    },
    "language_info": {
      "name": "python"
    }
  },
  "cells": [
    {
      "cell_type": "markdown",
      "metadata": {
        "id": "view-in-github",
        "colab_type": "text"
      },
      "source": [
        "<a href=\"https://colab.research.google.com/github/KavehKadkhoda/Sentiment-Analysis/blob/main/13_tags_and_Numpy.ipynb\" target=\"_parent\"><img src=\"https://colab.research.google.com/assets/colab-badge.svg\" alt=\"Open In Colab\"/></a>"
      ]
    },
    {
      "cell_type": "markdown",
      "source": [
        "# Parts-of-Speech Tagging - Working with tags and Numpy\n",
        "\n",
        "1.   List item\n",
        "2.   List item\n",
        "\n"
      ],
      "metadata": {
        "id": "dSuqo0mKXqZ5"
      }
    },
    {
      "cell_type": "markdown",
      "source": [
        "In this lecture notebook you will create a matrix using some tag information and then modify it using different approaches.\n",
        "This will serve as hands-on experience working with Numpy and as an introduction to some elements used for POS tagging."
      ],
      "metadata": {
        "id": "UTkENpZNXrV1"
      }
    },
    {
      "cell_type": "code",
      "source": [
        "import numpy as np\n",
        "import pandas as pd"
      ],
      "metadata": {
        "id": "EQh-kd_7XxBf"
      },
      "execution_count": null,
      "outputs": []
    },
    {
      "cell_type": "markdown",
      "source": [
        "### Some information on tags"
      ],
      "metadata": {
        "id": "AS-U56kKX2sx"
      }
    },
    {
      "cell_type": "markdown",
      "source": [
        "For this notebook you will be using a toy example including only three tags (or states). In a real world application there are many more tags which can be found [here](https://www.ling.upenn.edu/courses/Fall_2003/ling001/penn_treebank_pos.html)."
      ],
      "metadata": {
        "id": "J3oWoZPHX4tf"
      }
    },
    {
      "cell_type": "code",
      "source": [
        "# Define tags for Adverb, Noun and To (the preposition) , respectively\n",
        "tags = ['RB', 'NN', 'TO']"
      ],
      "metadata": {
        "id": "4QWB0Ng3X-oo"
      },
      "execution_count": null,
      "outputs": []
    },
    {
      "cell_type": "markdown",
      "source": [
        "In this week's assignment you will construct some dictionaries that provide useful information of the tags and words you will be working with.\n",
        "\n",
        "One of these dictionaries is the transition_counts which counts the number of times a particular tag happened next to another. The keys of this dictionary have the form (previous_tag, tag) and the values are the frequency of occurrences.\n",
        "\n",
        "Another one is the emission_counts dictionary which will count the number of times a particular pair of (tag, word) appeared in the training dataset.\n",
        "\n",
        "In general think of transition when working with tags only and of emission when working with tags and words.\n",
        "\n",
        "In this notebook you will be looking at the first one:"
      ],
      "metadata": {
        "id": "1YOyMNoKYU5g"
      }
    },
    {
      "cell_type": "code",
      "source": [
        "# Define 'transition_counts' dictionary\n",
        "# Note: values are the same as the ones in the assignment\n",
        "transition_counts = {\n",
        "    ('NN', 'NN'): 16241,\n",
        "    ('RB', 'RB'): 2263,\n",
        "    ('TO', 'TO'): 2,\n",
        "    ('NN', 'TO'): 5256,\n",
        "    ('RB', 'TO'): 855,\n",
        "    ('TO', 'NN'): 734,\n",
        "    ('NN', 'RB'): 2431,\n",
        "    ('RB', 'NN'): 358,\n",
        "    ('TO', 'RB'): 200\n",
        "}"
      ],
      "metadata": {
        "id": "bf9YuorlYVVH"
      },
      "execution_count": null,
      "outputs": []
    },
    {
      "cell_type": "markdown",
      "source": [
        "Notice that there are 9 combinations of the 3 tags used. Each tag can appear after the same tag so you should include those as well.\n",
        "\n",
        "### Using Numpy for matrix creation\n",
        "\n",
        "Now you will create a matrix that includes these frequencies using Numpy arrays:"
      ],
      "metadata": {
        "id": "kFI4KrFuYwdb"
      }
    },
    {
      "cell_type": "code",
      "source": [
        "# Store the number of tags in the 'num_tags' variable\n",
        "num_tags = len(tags)\n",
        "\n",
        "# Initialize a 3X3 numpy array with zeros\n",
        "transition_matrix = np.zeros((num_tags, num_tags))\n",
        "\n",
        "# Print matrix\n",
        "transition_matrix"
      ],
      "metadata": {
        "colab": {
          "base_uri": "https://localhost:8080/"
        },
        "id": "Q4HgVBD6Yw62",
        "outputId": "62d240fb-4bb5-418d-835d-c69388b8d5f1"
      },
      "execution_count": null,
      "outputs": [
        {
          "output_type": "execute_result",
          "data": {
            "text/plain": [
              "array([[0., 0., 0.],\n",
              "       [0., 0., 0.],\n",
              "       [0., 0., 0.]])"
            ]
          },
          "metadata": {},
          "execution_count": 4
        }
      ]
    },
    {
      "cell_type": "markdown",
      "source": [
        "Visually you can see the matrix has the correct dimensions. Don't forget you can check this too using the `shape` attribute:"
      ],
      "metadata": {
        "id": "XlVJlj7uZAHR"
      }
    },
    {
      "cell_type": "code",
      "source": [
        "# Print shape of the matrix\n",
        "transition_matrix.shape"
      ],
      "metadata": {
        "colab": {
          "base_uri": "https://localhost:8080/"
        },
        "id": "S0CMYgDPZAeQ",
        "outputId": "ee5d6a8a-186b-418b-c93d-3b6bb88f3869"
      },
      "execution_count": null,
      "outputs": [
        {
          "output_type": "execute_result",
          "data": {
            "text/plain": [
              "(3, 3)"
            ]
          },
          "metadata": {},
          "execution_count": 5
        }
      ]
    },
    {
      "cell_type": "markdown",
      "source": [
        "Before filling this matrix with the values of the `transition_counts` dictionary you should sort the tags so that their placement in the matrix is consistent:"
      ],
      "metadata": {
        "id": "qLq7_zTyZC_V"
      }
    },
    {
      "cell_type": "code",
      "source": [
        "# Create sorted version of the tag's list\n",
        "sorted_tags = sorted(tags)\n",
        "\n",
        "# Print sorted list\n",
        "sorted_tags"
      ],
      "metadata": {
        "colab": {
          "base_uri": "https://localhost:8080/"
        },
        "id": "FgYixQBAZGVa",
        "outputId": "f6e79869-1ce9-40fd-a024-f3a9e85f9d11"
      },
      "execution_count": null,
      "outputs": [
        {
          "output_type": "execute_result",
          "data": {
            "text/plain": [
              "['NN', 'RB', 'TO']"
            ]
          },
          "metadata": {},
          "execution_count": 6
        }
      ]
    },
    {
      "cell_type": "markdown",
      "source": [
        "To fill this matrix with the correct values you can use a `double for loop`. You could also use `itertools.product` to one line this double loop:"
      ],
      "metadata": {
        "id": "Ptt_rMV9ZZzv"
      }
    },
    {
      "cell_type": "code",
      "source": [
        "# Loop rows\n",
        "for i in range(num_tags):\n",
        "    # Loop columns\n",
        "    for j in range(num_tags):\n",
        "        # Define tag pair\n",
        "        tag_tuple = (sorted_tags[i], sorted_tags[j])\n",
        "        # Get frequency from transition_counts dict and assign to (i, j) position in the matrix\n",
        "        transition_matrix[i, j] = transition_counts.get(tag_tuple)\n",
        "\n",
        "# Print matrix\n",
        "transition_matrix"
      ],
      "metadata": {
        "colab": {
          "base_uri": "https://localhost:8080/"
        },
        "id": "CwDeHx31ZaH6",
        "outputId": "ec24b2bd-e206-4562-bb1c-54bbc3751611"
      },
      "execution_count": null,
      "outputs": [
        {
          "output_type": "execute_result",
          "data": {
            "text/plain": [
              "array([[1.6241e+04, 2.4310e+03, 5.2560e+03],\n",
              "       [3.5800e+02, 2.2630e+03, 8.5500e+02],\n",
              "       [7.3400e+02, 2.0000e+02, 2.0000e+00]])"
            ]
          },
          "metadata": {},
          "execution_count": 7
        }
      ]
    },
    {
      "cell_type": "markdown",
      "source": [
        "Looks like this worked fine. However the matrix can be hard to read as `Numpy` is more about efficiency, rather than presenting values in a pretty format. \n",
        "\n",
        "For this you can use a `Pandas DataFrame`. In particular, a function that takes the matrix as input and prints out a pretty version of it will be very useful:"
      ],
      "metadata": {
        "id": "NH6QSt5kZ2nR"
      }
    },
    {
      "cell_type": "code",
      "source": [
        "# Define 'print_matrix' function\n",
        "def print_matrix(matrix):\n",
        "    print(pd.DataFrame(matrix, index=sorted_tags, columns=sorted_tags))"
      ],
      "metadata": {
        "id": "S7ewmQ-PZ27J"
      },
      "execution_count": null,
      "outputs": []
    },
    {
      "cell_type": "markdown",
      "source": [
        "Notice that the tags are not a parameter of the function. This is because the `sorted_tags` list will not change in the rest of the notebook so it is safe to use the variable previously declared. To test this function simply run: "
      ],
      "metadata": {
        "id": "l1zhfz1uaAJE"
      }
    },
    {
      "cell_type": "code",
      "source": [
        "# Print the 'transition_matrix' by calling the 'print_matrix' function\n",
        "print_matrix(transition_matrix)"
      ],
      "metadata": {
        "colab": {
          "base_uri": "https://localhost:8080/"
        },
        "id": "u6CRVMc1aAhI",
        "outputId": "c8de35ac-4928-4bd8-e979-3c560e46f62e"
      },
      "execution_count": null,
      "outputs": [
        {
          "output_type": "stream",
          "name": "stdout",
          "text": [
            "         NN      RB      TO\n",
            "NN  16241.0  2431.0  5256.0\n",
            "RB    358.0  2263.0   855.0\n",
            "TO    734.0   200.0     2.0\n"
          ]
        }
      ]
    },
    {
      "cell_type": "markdown",
      "source": [
        "That is a lot better, isn't it? \n",
        "\n",
        "As you may have already deducted this matrix is not symmetrical."
      ],
      "metadata": {
        "id": "7av_WrzpaTUT"
      }
    },
    {
      "cell_type": "markdown",
      "source": [
        "### Working with Numpy for matrix manipulation\n"
      ],
      "metadata": {
        "id": "llnWwZclaTie"
      }
    },
    {
      "cell_type": "markdown",
      "source": [
        "Now that you got the matrix set up it is time to see how a matrix can be manipulated after being created. \n",
        "\n",
        "`Numpy` allows vectorized operations which means that operations that would normally include looping over the matrix can be done in a simpler manner. This is consistent with treating numpy arrays as matrices since you get support for common matrix operations. You can do matrix multiplication, scalar multiplication, vector addition and many more!\n",
        "\n",
        "For instance try scaling each value in the matrix by a factor of $\\frac{1}{10}$. Normally you would loop over each value in the matrix, updating them accordingly. But in Numpy this is as easy as dividing the whole matrix by 10:"
      ],
      "metadata": {
        "id": "qx7Ai58RaXpC"
      }
    },
    {
      "cell_type": "code",
      "source": [
        "# Scale transition matrix\n",
        "transition_matrix = transition_matrix/10\n",
        "\n",
        "# Print scaled matrix\n",
        "print_matrix(transition_matrix)"
      ],
      "metadata": {
        "colab": {
          "base_uri": "https://localhost:8080/"
        },
        "id": "04PAGksmamz7",
        "outputId": "67f44438-a815-48e8-a1e1-681df92a492d"
      },
      "execution_count": null,
      "outputs": [
        {
          "output_type": "stream",
          "name": "stdout",
          "text": [
            "        NN     RB     TO\n",
            "NN  1624.1  243.1  525.6\n",
            "RB    35.8  226.3   85.5\n",
            "TO    73.4   20.0    0.2\n"
          ]
        }
      ]
    },
    {
      "cell_type": "markdown",
      "source": [
        "Another trickier example is to normalize each row so that each value is equal to $\\frac{value}{sum \\,of \\,row}$.\n",
        "\n",
        "This can be easily done with vectorization. First you will compute the sum of each row:"
      ],
      "metadata": {
        "id": "OPdbvDGganUy"
      }
    },
    {
      "cell_type": "code",
      "source": [
        "# Compute sum of row for each row\n",
        "rows_sum = transition_matrix.sum(axis=1, keepdims=True)\n",
        "\n",
        "# Print sum of rows\n",
        "rows_sum"
      ],
      "metadata": {
        "colab": {
          "base_uri": "https://localhost:8080/"
        },
        "id": "DVOQviCVanjY",
        "outputId": "82f13fd5-b2d7-42ca-bf71-76277b783ad5"
      },
      "execution_count": null,
      "outputs": [
        {
          "output_type": "execute_result",
          "data": {
            "text/plain": [
              "array([[2392.8],\n",
              "       [ 347.6],\n",
              "       [  93.6]])"
            ]
          },
          "metadata": {},
          "execution_count": 12
        }
      ]
    },
    {
      "cell_type": "markdown",
      "source": [
        "Notice that the `sum()` method was used. This method does exactly what its name implies. Since the sum of the rows was desired the axis was set to `1`. In Numpy `axis=1` refers to the columns so the sum is done by summing each column of a particular row, for each row. \n",
        "\n",
        "Also the `keepdims` parameter was set to `True` so the resulting array had shape `(3, 1)` rather than `(3,)`. This was done so that the axes were consistent with the desired operation. \n",
        "\n",
        "When working with Numpy, always remember to check the shape of the arrays you are working with, many unexpected errors happen because of axes not being consistent. The `shape` attribute is your friend for these cases."
      ],
      "metadata": {
        "id": "VbhnE-sgbFHl"
      }
    },
    {
      "cell_type": "code",
      "source": [
        "# Normalize transition matrix\n",
        "transition_matrix = transition_matrix / rows_sum\n",
        "\n",
        "# Print normalized matrix\n",
        "print_matrix(transition_matrix)"
      ],
      "metadata": {
        "colab": {
          "base_uri": "https://localhost:8080/"
        },
        "id": "sWzk7-VNbFa8",
        "outputId": "3612f445-1553-4fc9-d56a-3454a63bf7f5"
      },
      "execution_count": null,
      "outputs": [
        {
          "output_type": "stream",
          "name": "stdout",
          "text": [
            "          NN        RB        TO\n",
            "NN  0.678745  0.101596  0.219659\n",
            "RB  0.102992  0.651036  0.245972\n",
            "TO  0.784188  0.213675  0.002137\n"
          ]
        }
      ]
    },
    {
      "cell_type": "markdown",
      "source": [
        "Notice that the normalization that was carried out forces the sum of each row to be equal to `1`. You can easily check this by running the `sum` method on the resulting matrix:"
      ],
      "metadata": {
        "id": "wRoWIHbYbPs-"
      }
    },
    {
      "cell_type": "code",
      "source": [
        "transition_matrix.sum(axis=1, keepdims=True)"
      ],
      "metadata": {
        "colab": {
          "base_uri": "https://localhost:8080/"
        },
        "id": "utVoAqtybQJn",
        "outputId": "3a16e8e8-e78d-4f0c-963b-64faf442d739"
      },
      "execution_count": null,
      "outputs": [
        {
          "output_type": "execute_result",
          "data": {
            "text/plain": [
              "array([[1.],\n",
              "       [1.],\n",
              "       [1.]])"
            ]
          },
          "metadata": {},
          "execution_count": 14
        }
      ]
    },
    {
      "cell_type": "markdown",
      "source": [
        "For a final example you are asked to modify each value of the diagonal of the matrix so that they are equal to the `log` of the sum of the current row plus the current value. When doing mathematical operations like this one don't forget to import the `math` module. \n",
        "\n",
        "This can be done using a standard `for loop` or `vectorization`. You'll see both in action:"
      ],
      "metadata": {
        "id": "okhuKhHAbdKY"
      }
    },
    {
      "cell_type": "code",
      "source": [
        "import math\n",
        "\n",
        "# Copy transition matrix for for-loop example\n",
        "t_matrix_for = np.copy(transition_matrix)\n",
        "\n",
        "# Copy transition matrix for numpy functions example\n",
        "t_matrix_np = np.copy(transition_matrix)"
      ],
      "metadata": {
        "id": "bx0EofbkbddS"
      },
      "execution_count": null,
      "outputs": []
    },
    {
      "cell_type": "markdown",
      "source": [
        "#### Using a for-loop\n"
      ],
      "metadata": {
        "id": "tqzviA-ybnzj"
      }
    },
    {
      "cell_type": "code",
      "source": [
        "# Loop values in the diagonal\n",
        "for i in range(num_tags):\n",
        "    t_matrix_for[i, i] =  t_matrix_for[i, i] + math.log(rows_sum[i])\n",
        "\n",
        "# Print matrix\n",
        "print_matrix(t_matrix_for)"
      ],
      "metadata": {
        "colab": {
          "base_uri": "https://localhost:8080/"
        },
        "id": "H6OFMiaSboIP",
        "outputId": "797b6467-d89e-4ab8-eebb-2f5b9f679ec3"
      },
      "execution_count": null,
      "outputs": [
        {
          "output_type": "stream",
          "name": "stdout",
          "text": [
            "          NN        RB        TO\n",
            "NN  8.458964  0.101596  0.219659\n",
            "RB  0.102992  6.502088  0.245972\n",
            "TO  0.784188  0.213675  4.541167\n"
          ]
        }
      ]
    },
    {
      "cell_type": "markdown",
      "source": [
        "#### Using vectorization\n"
      ],
      "metadata": {
        "id": "MZM8vVGsb0wO"
      }
    },
    {
      "cell_type": "code",
      "source": [
        "# Save diagonal in a numpy array\n",
        "d = np.diag(t_matrix_np)\n",
        "\n",
        "# Print shape of diagonal\n",
        "d.shape"
      ],
      "metadata": {
        "colab": {
          "base_uri": "https://localhost:8080/"
        },
        "id": "7NRLLF4Ib1DW",
        "outputId": "328a8645-fd49-436f-8697-5ae9f7e3417d"
      },
      "execution_count": null,
      "outputs": [
        {
          "output_type": "execute_result",
          "data": {
            "text/plain": [
              "(3,)"
            ]
          },
          "metadata": {},
          "execution_count": 17
        }
      ]
    },
    {
      "cell_type": "markdown",
      "source": [
        "You can save the diagonal in a numpy array using Numpy's `diag()` function. Notice that this array has shape `(3,)` so it is inconsistent with the dimensions of the `rows_sum` array which are `(3, 1)`. You'll have to reshape before moving forward. For this you can use Numpy's `reshape()` function, specifying the desired shape in a tuple:"
      ],
      "metadata": {
        "id": "0IIERlxYb_5H"
      }
    },
    {
      "cell_type": "code",
      "source": [
        "# Reshape diagonal numpy array\n",
        "d = np.reshape(d, (3,1))\n",
        "\n",
        "# Print shape of diagonal\n",
        "d.shape"
      ],
      "metadata": {
        "colab": {
          "base_uri": "https://localhost:8080/"
        },
        "id": "iN3k613QcAMB",
        "outputId": "3fba8b0e-79c6-45ac-ba3e-ddf548d2715f"
      },
      "execution_count": null,
      "outputs": [
        {
          "output_type": "execute_result",
          "data": {
            "text/plain": [
              "(3, 1)"
            ]
          },
          "metadata": {},
          "execution_count": 18
        }
      ]
    },
    {
      "cell_type": "markdown",
      "source": [
        "Now that the diagonal has the correct shape you can do the vectorized operation by applying the `math.log()` function to the `rows_sum` array and adding the diagonal. \n",
        "\n",
        "To apply a function to each element of a numpy array use Numpy's `vectorize()` function providing the desired function as a parameter. This function returns a vectorized function that accepts a numpy array as a parameter. \n",
        "\n",
        "To update the original matrix you can use Numpy's `fill_diagonal()` function."
      ],
      "metadata": {
        "id": "6CAeDHdQcNXh"
      }
    },
    {
      "cell_type": "code",
      "source": [
        "# Perform the vectorized operation\n",
        "d = d + np.vectorize(math.log)(rows_sum)\n",
        "\n",
        "# Use numpy's 'fill_diagonal' function to update the diagonal\n",
        "np.fill_diagonal(t_matrix_np, d)\n",
        "\n",
        "# Print the matrix\n",
        "print_matrix(t_matrix_np)"
      ],
      "metadata": {
        "colab": {
          "base_uri": "https://localhost:8080/"
        },
        "id": "Bp5P-KHQcNrw",
        "outputId": "0fb23bf7-44f7-4168-9149-9319f1adfc1b"
      },
      "execution_count": null,
      "outputs": [
        {
          "output_type": "stream",
          "name": "stdout",
          "text": [
            "          NN        RB        TO\n",
            "NN  8.458964  0.101596  0.219659\n",
            "RB  0.102992  6.502088  0.245972\n",
            "TO  0.784188  0.213675  4.541167\n"
          ]
        }
      ]
    },
    {
      "cell_type": "markdown",
      "source": [
        "To perform a sanity check that both methods yield the same result you can compare both matrices. Notice that this operation is also vectorized so you will get the equality check for each element in both matrices:"
      ],
      "metadata": {
        "id": "DOcAX9kncR1-"
      }
    },
    {
      "cell_type": "code",
      "source": [
        "# Check for equality\n",
        "t_matrix_for == t_matrix_np"
      ],
      "metadata": {
        "colab": {
          "base_uri": "https://localhost:8080/"
        },
        "id": "ztVNKvnEcWSC",
        "outputId": "4ce414fd-b3aa-451d-8bca-766c34b70c15"
      },
      "execution_count": null,
      "outputs": [
        {
          "output_type": "execute_result",
          "data": {
            "text/plain": [
              "array([[ True,  True,  True],\n",
              "       [ True,  True,  True],\n",
              "       [ True,  True,  True]])"
            ]
          },
          "metadata": {},
          "execution_count": 20
        }
      ]
    },
    {
      "cell_type": "markdown",
      "source": [
        "**Congratulations on finishing this lecture notebook!** Now you should be more familiar with some elements used by a POS tagger such as the `transition_counts` dictionary and with working with Numpy.\n",
        "\n",
        "**Keep it up!**"
      ],
      "metadata": {
        "id": "hZZD4wEHcZJ6"
      }
    }
  ]
}