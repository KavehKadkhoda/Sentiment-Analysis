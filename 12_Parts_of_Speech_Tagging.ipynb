{
  "nbformat": 4,
  "nbformat_minor": 0,
  "metadata": {
    "colab": {
      "name": "12_Parts_of_Speech_Tagging.ipynb",
      "provenance": [],
      "collapsed_sections": [],
      "authorship_tag": "ABX9TyNocoLWnw34C2cYPy5KSvVb",
      "include_colab_link": true
    },
    "kernelspec": {
      "name": "python3",
      "display_name": "Python 3"
    },
    "language_info": {
      "name": "python"
    }
  },
  "cells": [
    {
      "cell_type": "markdown",
      "metadata": {
        "id": "view-in-github",
        "colab_type": "text"
      },
      "source": [
        "<a href=\"https://colab.research.google.com/github/KavehKadkhoda/Sentiment-Analysis/blob/main/12_Parts_of_Speech_Tagging.ipynb\" target=\"_parent\"><img src=\"https://colab.research.google.com/assets/colab-badge.svg\" alt=\"Open In Colab\"/></a>"
      ]
    },
    {
      "cell_type": "code",
      "execution_count": null,
      "metadata": {
        "id": "qoyY8t1g6mAJ"
      },
      "outputs": [],
      "source": [
        ""
      ]
    },
    {
      "cell_type": "markdown",
      "source": [
        "# Parts-of-Speech Tagging - First Steps: Working with text files, Creating a Vocabulary and Handling Unknown Words"
      ],
      "metadata": {
        "id": "lBBzfKDJ8fxv"
      }
    },
    {
      "cell_type": "markdown",
      "source": [
        "In this lecture notebook you will create a vocabulary from a tagged dataset and learn how to deal with words that are not present in this vocabulary when working with other text sources. Aside from this you will also learn how to:\n",
        " \n",
        "- read text files\n",
        "- work with defaultdict\n",
        "- work with string data\n",
        " "
      ],
      "metadata": {
        "id": "Y9qSROEn8gbl"
      }
    },
    {
      "cell_type": "code",
      "source": [
        "import string\n",
        "from collections import defaultdict"
      ],
      "metadata": {
        "id": "4jM4MY4K8kor"
      },
      "execution_count": 1,
      "outputs": []
    },
    {
      "cell_type": "markdown",
      "source": [
        "### Read Text Data"
      ],
      "metadata": {
        "id": "lPrI529I8xDR"
      }
    },
    {
      "cell_type": "markdown",
      "source": [
        "A tagged dataset taken from the Wall Street Journal is provided in the file `WSJ_02-21.pos`. \n",
        "\n",
        "To read this file you can use Python's context manager by using the `with` keyword and specifying the name of the file you wish to read. To actually save the contents of the file into memory you will need to use the `readlines()` method and store its return value in a variable. \n",
        "\n",
        "Python's context managers are great because you don't need to explicitly close the connection to the file, this is done under the hood:"
      ],
      "metadata": {
        "id": "s7gLQRlV8xT7"
      }
    },
    {
      "cell_type": "code",
      "source": [
        "#Colaboratory, or \"Colab\" for short, allows you to write and execute Python in your browser.\n",
        "#https://colab.research.google.com\n",
        "\n",
        "from google.colab import drive\n",
        "drive.mount('/content/drive')"
      ],
      "metadata": {
        "colab": {
          "base_uri": "https://localhost:8080/"
        },
        "id": "fQN1-Dqw9J9w",
        "outputId": "f70f847e-b12e-4732-ee46-47296dd5af55"
      },
      "execution_count": 2,
      "outputs": [
        {
          "output_type": "stream",
          "name": "stdout",
          "text": [
            "Mounted at /content/drive\n"
          ]
        }
      ]
    },
    {
      "cell_type": "code",
      "source": [
        "\n",
        "\n",
        "#DATA: Add shortcut to your google drive\n",
        "\n",
        "# WSJ_02-21.pos :\n",
        "# https://drive.google.com/file/d/1BMeqOTWcozg-PIj9LWDRZGm6Up7yZx0D/view?usp=sharing\n",
        "\n",
        "# Read lines from 'WSJ_02-21.pos' file and save them into the 'lines' variable\n",
        "with open(\"drive/MyDrive/NLP/WSJ_02-21.pos\", 'r') as f:\n",
        "    lines = f.readlines()\n",
        "\n"
      ],
      "metadata": {
        "id": "6jsp0y0d9RNe"
      },
      "execution_count": 3,
      "outputs": []
    },
    {
      "cell_type": "markdown",
      "source": [
        "To check the contents of the dataset you can print the first 5 lines:"
      ],
      "metadata": {
        "id": "1-msFVyV-BHi"
      }
    },
    {
      "cell_type": "code",
      "source": [
        "# Print columns for reference\n",
        "print(\"\\t\\tWord\", \"\\tTag\\n\")\n",
        "\n",
        "# Print first five lines of the dataset\n",
        "for i in range(5):\n",
        "    print(f'line number {i+1}: {lines[i]}')"
      ],
      "metadata": {
        "colab": {
          "base_uri": "https://localhost:8080/"
        },
        "id": "8LJR9h_o-BeB",
        "outputId": "8495f783-0d43-4dbf-e4dd-222a8b04d028"
      },
      "execution_count": 4,
      "outputs": [
        {
          "output_type": "stream",
          "name": "stdout",
          "text": [
            "\t\tWord \tTag\n",
            "\n",
            "line number 1: In\tIN\n",
            "\n",
            "line number 2: an\tDT\n",
            "\n",
            "line number 3: Oct.\tNNP\n",
            "\n",
            "line number 4: 19\tCD\n",
            "\n",
            "line number 5: review\tNN\n",
            "\n"
          ]
        }
      ]
    },
    {
      "cell_type": "markdown",
      "source": [
        "Each line within the dataset has a word followed by its corresponding tag. However since the printing was done using a formatted string it can be inferred that the **word** and the **tag** are separated by a tab (or some spaces) and there is a newline at the end of each line (notice that there is a space between each line). \n",
        "\n",
        "If you want to understand the meaning of these tags you can take a look [here](https://www.ling.upenn.edu/courses/Fall_2003/ling001/penn_treebank_pos.html).\n",
        "\n",
        "To better understand how the information is structured in the dataset it is recommended to print an unformatted version of it:"
      ],
      "metadata": {
        "id": "Qcaa0m_0-ivL"
      }
    },
    {
      "cell_type": "code",
      "source": [
        "# Print first line (unformatted)\n",
        "lines[0]"
      ],
      "metadata": {
        "colab": {
          "base_uri": "https://localhost:8080/",
          "height": 35
        },
        "id": "TaRHNS3R-jF6",
        "outputId": "6ede93b4-66d8-4085-9c50-2c1a26987c7d"
      },
      "execution_count": 5,
      "outputs": [
        {
          "output_type": "execute_result",
          "data": {
            "text/plain": [
              "'In\\tIN\\n'"
            ],
            "application/vnd.google.colaboratory.intrinsic+json": {
              "type": "string"
            }
          },
          "metadata": {},
          "execution_count": 5
        }
      ]
    },
    {
      "cell_type": "markdown",
      "source": [
        "Indeed there is a tab between the word and the tag and a newline at the end of each line.\n",
        "\n",
        "### Creating a vocabulary\n",
        "\n",
        "Now that you understand how the dataset is structured, you will create a vocabulary out of it. A vocabulary is made up of every word that appeared at least 2 times in the dataset. \n",
        "For this, follow these steps:\n",
        "- Get only the words from the dataset\n",
        "- Use a defaultdict to count the number of times each word appears\n",
        "- Filter the dict to only include words that appeared at least 2 times\n",
        "- Create a list out of the filtered dict\n",
        "- Sort the list\n",
        "\n",
        "For step 1 you can use the fact that every word and tag are separated by a tab and that words always come first. Using list comprehension the words list can be created like this:"
      ],
      "metadata": {
        "id": "EZ9DYA4Y-wpd"
      }
    },
    {
      "cell_type": "code",
      "source": [
        "# Get the words from each line in the dataset\n",
        "words = [line.split('\\t')[0] for line in lines]"
      ],
      "metadata": {
        "id": "1gd48_ju-yFD"
      },
      "execution_count": 6,
      "outputs": []
    },
    {
      "cell_type": "markdown",
      "source": [
        "Step 2 can be done easily by leveraging `defaultdict`. In case you aren't familiar with defaultdicts they are a special kind of dictionaries that **return the \"zero\" value of a type if you try to access a key that does not exist**. Since you want the frequencies of words, you should define the defaultdict with a type of `int`. \n",
        "\n",
        "Now you don't need to worry about the case when the word is not present within the dictionary because getting the value for that key will simply return a zero. Isn't that cool?"
      ],
      "metadata": {
        "id": "t_J6EeJR_UYA"
      }
    },
    {
      "cell_type": "code",
      "source": [
        "# Define defaultdict of type 'int'\n",
        "freq = defaultdict(int)\n",
        "\n",
        "# Count frequency of ocurrence for each word in the dataset\n",
        "for word in words:\n",
        "    freq[word] += 1"
      ],
      "metadata": {
        "id": "CwVlHFI3_UuP"
      },
      "execution_count": 7,
      "outputs": []
    },
    {
      "cell_type": "markdown",
      "source": [
        "Filtering the `freq` dictionary can be done using list comprehensions again (aren't they handy?). You should filter out words that appeared only once and also words that are just a newline character:"
      ],
      "metadata": {
        "id": "kduLkHx-_g59"
      }
    },
    {
      "cell_type": "code",
      "source": [
        "# Create the vocabulary by filtering the 'freq' dictionary\n",
        "vocab = [k for k, v in freq.items() if (v > 1 and k != '\\n')]"
      ],
      "metadata": {
        "id": "vqJ5syvt_hQI"
      },
      "execution_count": 10,
      "outputs": []
    },
    {
      "cell_type": "markdown",
      "source": [
        "Finally, the `sort` method will take care of the final step. Notice that it changes the list directly so you don't need to reassign the `vocab` variable:"
      ],
      "metadata": {
        "id": "8X17XxZF_oHE"
      }
    },
    {
      "cell_type": "code",
      "source": [
        "# Sort the vocabulary\n",
        "vocab.sort()\n",
        "\n",
        "# Print some random values of the vocabulary\n",
        "for i in range(4000, 4005):\n",
        "    print(vocab[i])"
      ],
      "metadata": {
        "colab": {
          "base_uri": "https://localhost:8080/"
        },
        "id": "CXM5-JcA_1Sk",
        "outputId": "c0d913f1-e82b-4f2a-dfc8-4e2f58d14378"
      },
      "execution_count": 11,
      "outputs": [
        {
          "output_type": "stream",
          "name": "stdout",
          "text": [
            "Early\n",
            "Earnings\n",
            "Earth\n",
            "Earthquake\n",
            "East\n"
          ]
        }
      ]
    },
    {
      "cell_type": "markdown",
      "source": [
        "Now you have successfully created a vocabulary from the dataset. **Great job!** The vocabulary is quite extensive so it is not printed out but you can still do so by creating a cell and running something like `print(vocab)`. \n",
        "\n",
        "At this point you will usually write the vocabulary into a file for future use, but that is out of the scope of this notebook. If you are curious it is very similar to how you read the file at the beginning of this notebook.\n"
      ],
      "metadata": {
        "id": "xJqAK7T4AGDC"
      }
    },
    {
      "cell_type": "markdown",
      "source": [
        "## Processing new text sources\n"
      ],
      "metadata": {
        "id": "XYGunEivANKB"
      }
    },
    {
      "cell_type": "markdown",
      "source": [
        "### Dealing with unknown words"
      ],
      "metadata": {
        "id": "So1QJ14rAPtt"
      }
    },
    {
      "cell_type": "markdown",
      "source": [
        "Now that you have a vocabulary, you will use it when processing new text sources. **A new text will have words that do not appear in the current vocabulary**. To tackle this, you can simply classify each new word as an unknown one, but you can do better by creating a function that tries to classify the type of each unknown word and assign it a corresponding `unknown token`. \n",
        "\n",
        "This function will do the following checks and return an appropriate token:\n",
        "\n",
        "   - Check if the unknown word contains any character that is a digit \n",
        "       - return `--unk_digit--`\n",
        "   - Check if the unknown word contains any punctuation character \n",
        "       - return `--unk_punct--`\n",
        "   - Check if the unknown word contains any upper-case character \n",
        "       - return `--unk_upper--`\n",
        "   - Check if the unknown word ends with a suffix that could indicate it is a noun, verb, adjective or adverb \n",
        "        - return `--unk_noun--`, `--unk_verb--`, `--unk_adj--`, `--unk_adv--` respectively\n",
        "\n",
        "If a word fails to fall under any condition then its token will be a plain `--unk--`. The conditions will be evaluated in the same order as listed here. So if a word contains a punctuation character but does not contain digits, it will fall under the second condition. To achieve this behaviour some if/elif statements can be used along with early returns. \n",
        "\n",
        "This function is implemented next. Notice that the `any()` function is being heavily used. It returns `True` if at least one of the cases it evaluates is `True`."
      ],
      "metadata": {
        "id": "QcK6AbInAQAT"
      }
    },
    {
      "cell_type": "code",
      "source": [
        "def assign_unk(word):\n",
        "    \"\"\"\n",
        "    Assign tokens to unknown words\n",
        "    \"\"\"\n",
        "    \n",
        "    # Punctuation characters\n",
        "    # Try printing them out in a new cell!\n",
        "    punct = set(string.punctuation)\n",
        "    \n",
        "    # Suffixes\n",
        "    noun_suffix = [\"action\", \"age\", \"ance\", \"cy\", \"dom\", \"ee\", \"ence\", \"er\", \"hood\", \"ion\", \"ism\", \"ist\", \"ity\", \"ling\", \"ment\", \"ness\", \"or\", \"ry\", \"scape\", \"ship\", \"ty\"]\n",
        "    verb_suffix = [\"ate\", \"ify\", \"ise\", \"ize\"]\n",
        "    adj_suffix = [\"able\", \"ese\", \"ful\", \"i\", \"ian\", \"ible\", \"ic\", \"ish\", \"ive\", \"less\", \"ly\", \"ous\"]\n",
        "    adv_suffix = [\"ward\", \"wards\", \"wise\"]\n",
        "\n",
        "    # Loop the characters in the word, check if any is a digit\n",
        "    if any(char.isdigit() for char in word):\n",
        "        return \"--unk_digit--\"\n",
        "\n",
        "    # Loop the characters in the word, check if any is a punctuation character\n",
        "    elif any(char in punct for char in word):\n",
        "        return \"--unk_punct--\"\n",
        "\n",
        "    # Loop the characters in the word, check if any is an upper case character\n",
        "    elif any(char.isupper() for char in word):\n",
        "        return \"--unk_upper--\"\n",
        "\n",
        "    # Check if word ends with any noun suffix\n",
        "    elif any(word.endswith(suffix) for suffix in noun_suffix):\n",
        "        return \"--unk_noun--\"\n",
        "\n",
        "    # Check if word ends with any verb suffix\n",
        "    elif any(word.endswith(suffix) for suffix in verb_suffix):\n",
        "        return \"--unk_verb--\"\n",
        "\n",
        "    # Check if word ends with any adjective suffix\n",
        "    elif any(word.endswith(suffix) for suffix in adj_suffix):\n",
        "        return \"--unk_adj--\"\n",
        "\n",
        "    # Check if word ends with any adverb suffix\n",
        "    elif any(word.endswith(suffix) for suffix in adv_suffix):\n",
        "        return \"--unk_adv--\"\n",
        "    \n",
        "    # If none of the previous criteria is met, return plain unknown\n",
        "    return \"--unk--\""
      ],
      "metadata": {
        "id": "R7NpA2I7Ar44"
      },
      "execution_count": 12,
      "outputs": []
    },
    {
      "cell_type": "markdown",
      "source": [
        "A POS tagger will always encounter words that are not within the vocabulary that is being used. By augmenting the dataset to include these `unknown word tokens` you are helping the tagger to have a better idea of the appropriate tag for these words. "
      ],
      "metadata": {
        "id": "_QkjuD_eBaFw"
      }
    },
    {
      "cell_type": "markdown",
      "source": [
        "### Getting the correct tag for a word\n"
      ],
      "metadata": {
        "id": "qiNJlautBaZO"
      }
    },
    {
      "cell_type": "markdown",
      "source": [
        "All that is left is to implement a function that will get the correct tag for a particular word taking special considerations for unknown words. Since the dataset provides each word and tag within the same line and a word being known depends on the vocabulary used, these two elements should be arguments to this function.\n",
        "\n",
        "This function should check if a line is empty and if so, it should return a placeholder word and tag, --n-- and --s-- respectively.\n",
        "\n",
        "If not, it should process the line to return the correct word and tag pair, considering if a word is unknown in which scenario the function assign_unk() should be used.\n",
        "\n",
        "The function is implemented next. Notice that the split() method can be used without specifying the delimiter, in which case it will default to any whitespace."
      ],
      "metadata": {
        "id": "qmuFH3lXBcvs"
      }
    },
    {
      "cell_type": "code",
      "source": [
        "def get_word_tag(line, vocab):\n",
        "    # If line is empty return placeholders for word and tag\n",
        "    if not line.split():\n",
        "        word = \"--n--\"\n",
        "        tag = \"--s--\"\n",
        "    else:\n",
        "        # Split line to separate word and tag\n",
        "        word, tag = line.split()\n",
        "        # Check if word is not in vocabulary\n",
        "        if word not in vocab: \n",
        "            # Handle unknown word\n",
        "            word = assign_unk(word)\n",
        "    return word, tag"
      ],
      "metadata": {
        "id": "h4DJpzNzBtSj"
      },
      "execution_count": 13,
      "outputs": []
    },
    {
      "cell_type": "markdown",
      "source": [
        "Now you can try this function with some examples to test that it is working as intended:"
      ],
      "metadata": {
        "id": "RyX9B6ncCOPa"
      }
    },
    {
      "cell_type": "code",
      "source": [
        "get_word_tag('\\n', vocab)"
      ],
      "metadata": {
        "colab": {
          "base_uri": "https://localhost:8080/"
        },
        "id": "kPQEWV7ICOhC",
        "outputId": "134eb8bb-61e7-4faf-e279-0e62c15195b4"
      },
      "execution_count": 14,
      "outputs": [
        {
          "output_type": "execute_result",
          "data": {
            "text/plain": [
              "('--n--', '--s--')"
            ]
          },
          "metadata": {},
          "execution_count": 14
        }
      ]
    },
    {
      "cell_type": "markdown",
      "source": [
        "Since this line only includes a newline character it returns a placeholder word and tag."
      ],
      "metadata": {
        "id": "IRDFwaGJCTQw"
      }
    },
    {
      "cell_type": "code",
      "source": [
        "get_word_tag('In\\tIN\\n', vocab)"
      ],
      "metadata": {
        "colab": {
          "base_uri": "https://localhost:8080/"
        },
        "id": "lwOryTIlCTjX",
        "outputId": "0092ca12-1b63-4379-fdcb-def75f7fa0a9"
      },
      "execution_count": 15,
      "outputs": [
        {
          "output_type": "execute_result",
          "data": {
            "text/plain": [
              "('In', 'IN')"
            ]
          },
          "metadata": {},
          "execution_count": 15
        }
      ]
    },
    {
      "cell_type": "markdown",
      "source": [
        "This one is a valid line and the function does a fair job at returning the correct (word, tag) pair."
      ],
      "metadata": {
        "id": "U84U1ec0Ca6u"
      }
    },
    {
      "cell_type": "code",
      "source": [
        "get_word_tag('tardigrade\\tNN\\n', vocab)"
      ],
      "metadata": {
        "colab": {
          "base_uri": "https://localhost:8080/"
        },
        "id": "89SejtuLCe09",
        "outputId": "bd092870-dfed-407b-ecda-055572554630"
      },
      "execution_count": 16,
      "outputs": [
        {
          "output_type": "execute_result",
          "data": {
            "text/plain": [
              "('--unk--', 'NN')"
            ]
          },
          "metadata": {},
          "execution_count": 16
        }
      ]
    },
    {
      "cell_type": "markdown",
      "source": [
        "This line includes a noun that is not present in the vocabulary. \n",
        "\n",
        "The `assign_unk` function fails to detect that it is a noun so it returns an `unknown token`."
      ],
      "metadata": {
        "id": "ROjzXEmrCoRZ"
      }
    },
    {
      "cell_type": "code",
      "source": [
        "get_word_tag('scrutinize\\tVB\\n', vocab)"
      ],
      "metadata": {
        "colab": {
          "base_uri": "https://localhost:8080/"
        },
        "id": "AK1N2rsUCs0U",
        "outputId": "5259beba-5f3e-4c59-f4e5-5bab1d892920"
      },
      "execution_count": 17,
      "outputs": [
        {
          "output_type": "execute_result",
          "data": {
            "text/plain": [
              "('--unk_verb--', 'VB')"
            ]
          },
          "metadata": {},
          "execution_count": 17
        }
      ]
    },
    {
      "cell_type": "markdown",
      "source": [
        "This line includes a verb that is not present in the vocabulary. \n",
        "\n",
        "In this case the `assign_unk` is able to detect that it is a verb so it returns an `unknown verb token`."
      ],
      "metadata": {
        "id": "VgKY4fxqCojX"
      }
    },
    {
      "cell_type": "markdown",
      "source": [
        "**Congratulations on finishing this lecture notebook!** Now you should be more familiar with working with text data and have a better understanding of how a basic POS tagger works.\n",
        "\n",
        "**Keep it up!**"
      ],
      "metadata": {
        "id": "h2MluAlICzcL"
      }
    }
  ]
}